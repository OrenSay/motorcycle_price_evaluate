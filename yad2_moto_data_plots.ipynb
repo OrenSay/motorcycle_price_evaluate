{
 "cells": [
  {
   "cell_type": "code",
   "execution_count": 10,
   "id": "e440a8a1",
   "metadata": {},
   "outputs": [],
   "source": [
    "import pandas as pd\n",
    "import matplotlib.pyplot as plt\n",
    "import seaborn as sns"
   ]
  },
  {
   "cell_type": "code",
   "execution_count": 11,
   "id": "46eb6518",
   "metadata": {},
   "outputs": [],
   "source": [
    "df=pd.read_csv('moto_cleaned_371.csv')"
   ]
  },
  {
   "cell_type": "code",
   "execution_count": 12,
   "id": "b0fe73d1",
   "metadata": {},
   "outputs": [
    {
     "data": {
      "text/plain": [
       "Index(['Unnamed: 0', 'categorty', 'color', 'color_fix', 'dealer', 'hand', 'km',\n",
       "       'km_fix', 'owner', 'license', 'licence', 'lising', 'location',\n",
       "       'district', 'region', 'maker', 'price_fix', 'model', 'price', 'size',\n",
       "       'test', 'year'],\n",
       "      dtype='object')"
      ]
     },
     "execution_count": 12,
     "metadata": {},
     "output_type": "execute_result"
    }
   ],
   "source": [
    "df.columns"
   ]
  },
  {
   "cell_type": "code",
   "execution_count": 13,
   "id": "6f51ca5e",
   "metadata": {},
   "outputs": [
    {
     "data": {
      "text/plain": [
       "<AxesSubplot:>"
      ]
     },
     "execution_count": 13,
     "metadata": {},
     "output_type": "execute_result"
    },
    {
     "data": {
      "image/png": "[encoded data removed]",
      "text/plain": [
       "<Figure size 432x288 with 1 Axes>"
      ]
     },
     "metadata": {
      "needs_background": "light"
     },
     "output_type": "display_data"
    }
   ],
   "source": [
    "df.region.hist()"
   ]
  },
  {
   "cell_type": "code",
   "execution_count": 14,
   "id": "2df88d18",
   "metadata": {},
   "outputs": [
    {
     "data": {
      "text/plain": [
       "<AxesSubplot:>"
      ]
     },
     "execution_count": 14,
     "metadata": {},
     "output_type": "execute_result"
    },
    {
     "data": {
      "image/png": "[encoded data removed]",
      "text/plain": [
       "<Figure size 432x288 with 1 Axes>"
      ]
     },
     "metadata": {
      "needs_background": "light"
     },
     "output_type": "display_data"
    }
   ],
   "source": [
    "df.license.hist()"
   ]
  },
  {
   "cell_type": "code",
   "execution_count": 15,
   "id": "6cebef86",
   "metadata": {},
   "outputs": [
    {
     "data": {
      "text/plain": [
       "<AxesSubplot:>"
      ]
     },
     "execution_count": 15,
     "metadata": {},
     "output_type": "execute_result"
    },
    {
     "data": {
      "image/png": "[encoded data removed]",
      "text/plain": [
       "<Figure size 432x288 with 1 Axes>"
      ]
     },
     "metadata": {
      "needs_background": "light"
     },
     "output_type": "display_data"
    }
   ],
   "source": [
    "df.boxplot(column='year')"
   ]
  },
  {
   "cell_type": "code",
   "execution_count": 16,
   "id": "f3c07fd0",
   "metadata": {},
   "outputs": [
    {
     "data": {
      "text/plain": [
       "<AxesSubplot:>"
      ]
     },
     "execution_count": 16,
     "metadata": {},
     "output_type": "execute_result"
    },
    {
     "data": {
      "image/png": "[encoded data removed]",
      "text/plain": [
       "<Figure size 432x288 with 1 Axes>"
      ]
     },
     "metadata": {
      "needs_background": "light"
     },
     "output_type": "display_data"
    }
   ],
   "source": [
    "df.boxplot(column='price_fix')"
   ]
  },
  {
   "cell_type": "code",
   "execution_count": 17,
   "id": "9e0c2032",
   "metadata": {},
   "outputs": [
    {
     "data": {
      "text/html": [
       "<div>\n",
       "<style scoped>\n",
       "    .dataframe tbody tr th:only-of-type {\n",
       "        vertical-align: middle;\n",
       "    }\n",
       "\n",
       "    .dataframe tbody tr th {\n",
       "        vertical-align: top;\n",
       "    }\n",
       "\n",
       "    .dataframe thead th {\n",
       "        text-align: right;\n",
       "    }\n",
       "</style>\n",
       "<table border=\"1\" class=\"dataframe\">\n",
       "  <thead>\n",
       "    <tr style=\"text-align: right;\">\n",
       "      <th></th>\n",
       "      <th>hand</th>\n",
       "      <th>km_fix</th>\n",
       "      <th>price_fix</th>\n",
       "      <th>size</th>\n",
       "    </tr>\n",
       "  </thead>\n",
       "  <tbody>\n",
       "    <tr>\n",
       "      <th>hand</th>\n",
       "      <td>1.000000</td>\n",
       "      <td>0.350064</td>\n",
       "      <td>-0.297480</td>\n",
       "      <td>0.013515</td>\n",
       "    </tr>\n",
       "    <tr>\n",
       "      <th>km_fix</th>\n",
       "      <td>0.350064</td>\n",
       "      <td>1.000000</td>\n",
       "      <td>-0.128901</td>\n",
       "      <td>0.379983</td>\n",
       "    </tr>\n",
       "    <tr>\n",
       "      <th>price_fix</th>\n",
       "      <td>-0.297480</td>\n",
       "      <td>-0.128901</td>\n",
       "      <td>1.000000</td>\n",
       "      <td>0.679009</td>\n",
       "    </tr>\n",
       "    <tr>\n",
       "      <th>size</th>\n",
       "      <td>0.013515</td>\n",
       "      <td>0.379983</td>\n",
       "      <td>0.679009</td>\n",
       "      <td>1.000000</td>\n",
       "    </tr>\n",
       "  </tbody>\n",
       "</table>\n",
       "</div>"
      ],
      "text/plain": [
       "               hand    km_fix  price_fix      size\n",
       "hand       1.000000  0.350064  -0.297480  0.013515\n",
       "km_fix     0.350064  1.000000  -0.128901  0.379983\n",
       "price_fix -0.297480 -0.128901   1.000000  0.679009\n",
       "size       0.013515  0.379983   0.679009  1.000000"
      ]
     },
     "execution_count": 17,
     "metadata": {},
     "output_type": "execute_result"
    }
   ],
   "source": [
    "df[['hand','km_fix','price_fix','size']].corr()"
   ]
  },
  {
   "cell_type": "code",
   "execution_count": 18,
   "id": "9544021e",
   "metadata": {},
   "outputs": [
    {
     "data": {
      "text/plain": [
       "<AxesSubplot:>"
      ]
     },
     "execution_count": 18,
     "metadata": {},
     "output_type": "execute_result"
    },
    {
     "data": {
      "image/png": "[encoded data removed]",
      "text/plain": [
       "<Figure size 432x288 with 2 Axes>"
      ]
     },
     "metadata": {
      "needs_background": "light"
     },
     "output_type": "display_data"
    }
   ],
   "source": [
    "cmap = sns.diverging_palette(220, 10, as_cmap=True)\n",
    "\n",
    "# Draw the heatmap with the mask and correct aspect ratio\n",
    "sns.heatmap(df[['hand','km_fix','price_fix','size']].corr(), cmap=cmap, vmax=.3, center=0,\n",
    "            square=True, linewidths=.5, cbar_kws={\"shrink\": .5})"
   ]
  },
  {
   "cell_type": "code",
   "execution_count": 19,
   "id": "9f659a9e",
   "metadata": {},
   "outputs": [
    {
     "data": {
      "text/plain": [
       "Index(['Unnamed: 0', 'categorty', 'color', 'color_fix', 'dealer', 'hand', 'km',\n",
       "       'km_fix', 'owner', 'license', 'licence', 'lising', 'location',\n",
       "       'district', 'region', 'maker', 'price_fix', 'model', 'price', 'size',\n",
       "       'test', 'year'],\n",
       "      dtype='object')"
      ]
     },
     "execution_count": 19,
     "metadata": {},
     "output_type": "execute_result"
    }
   ],
   "source": [
    "df.columns"
   ]
  },
  {
   "cell_type": "code",
   "execution_count": 20,
   "id": "a42f68f9",
   "metadata": {},
   "outputs": [],
   "source": [
    "df2=df[['categorty','hand','km_fix', 'license','district','region','price_fix', 'size','year']]"
   ]
  },
  {
   "cell_type": "code",
   "execution_count": 21,
   "id": "287fa278",
   "metadata": {},
   "outputs": [
    {
     "name": "stdout",
     "output_type": "stream",
     "text": [
      "category: categorty, total values: 4\n"
     ]
    },
    {
     "data": {
      "image/png": "[encoded data removed]",
      "text/plain": [
       "<Figure size 432x288 with 1 Axes>"
      ]
     },
     "metadata": {
      "needs_background": "light"
     },
     "output_type": "display_data"
    },
    {
     "name": "stdout",
     "output_type": "stream",
     "text": [
      "category: hand, total values: 10\n"
     ]
    },
    {
     "data": {
      "image/png": "[encoded data removed]",
      "text/plain": [
       "<Figure size 432x288 with 1 Axes>"
      ]
     },
     "metadata": {
      "needs_background": "light"
     },
     "output_type": "display_data"
    },
    {
     "name": "stdout",
     "output_type": "stream",
     "text": [
      "category: km_fix, total values: 198\n"
     ]
    },
    {
     "data": {
      "image/png": "[encoded data removed]",
      "text/plain": [
       "<Figure size 432x288 with 1 Axes>"
      ]
     },
     "metadata": {
      "needs_background": "light"
     },
     "output_type": "display_data"
    },
    {
     "name": "stdout",
     "output_type": "stream",
     "text": [
      "category: license, total values: 3\n"
     ]
    },
    {
     "data": {
      "image/png": "[encoded data removed]",
      "text/plain": [
       "<Figure size 432x288 with 1 Axes>"
      ]
     },
     "metadata": {
      "needs_background": "light"
     },
     "output_type": "display_data"
    },
    {
     "name": "stdout",
     "output_type": "stream",
     "text": [
      "category: district, total values: 7\n"
     ]
    },
    {
     "data": {
      "image/png": "[encoded data removed]",
      "text/plain": [
       "<Figure size 432x288 with 1 Axes>"
      ]
     },
     "metadata": {
      "needs_background": "light"
     },
     "output_type": "display_data"
    },
    {
     "name": "stdout",
     "output_type": "stream",
     "text": [
      "category: region, total values: 4\n"
     ]
    },
    {
     "data": {
      "image/png": "[encoded data removed]",
      "text/plain": [
       "<Figure size 432x288 with 1 Axes>"
      ]
     },
     "metadata": {
      "needs_background": "light"
     },
     "output_type": "display_data"
    },
    {
     "name": "stdout",
     "output_type": "stream",
     "text": [
      "category: price_fix, total values: 144\n"
     ]
    },
    {
     "data": {
      "image/png": "[encoded data removed]",
      "text/plain": [
       "<Figure size 432x288 with 1 Axes>"
      ]
     },
     "metadata": {
      "needs_background": "light"
     },
     "output_type": "display_data"
    },
    {
     "name": "stdout",
     "output_type": "stream",
     "text": [
      "category: size, total values: 27\n"
     ]
    },
    {
     "data": {
      "image/png": "[encoded data removed]",
      "text/plain": [
       "<Figure size 432x288 with 1 Axes>"
      ]
     },
     "metadata": {
      "needs_background": "light"
     },
     "output_type": "display_data"
    },
    {
     "name": "stdout",
     "output_type": "stream",
     "text": [
      "category: year, total values: 31\n"
     ]
    },
    {
     "data": {
      "image/png": "[encoded data removed]",
      "text/plain": [
       "<Figure size 432x288 with 1 Axes>"
      ]
     },
     "metadata": {
      "needs_background": "light"
     },
     "output_type": "display_data"
    }
   ],
   "source": [
    "for i in df2.columns:\n",
    "    cat_tot=df2[i].value_counts()\n",
    "    print('category: %s, total values: %d' % (i,len(cat_tot)))\n",
    "    chart=sns.barplot(x=cat_tot.index, y=cat_tot)\n",
    "    chart.set_xticklabels(chart.get_xticklabels(),rotation=90)\n",
    "    plt.show()"
   ]
  },
  {
   "cell_type": "code",
   "execution_count": 22,
   "id": "233ce637",
   "metadata": {},
   "outputs": [
    {
     "data": {
      "text/html": [
       "<div>\n",
       "<style scoped>\n",
       "    .dataframe tbody tr th:only-of-type {\n",
       "        vertical-align: middle;\n",
       "    }\n",
       "\n",
       "    .dataframe tbody tr th {\n",
       "        vertical-align: top;\n",
       "    }\n",
       "\n",
       "    .dataframe thead th {\n",
       "        text-align: right;\n",
       "    }\n",
       "</style>\n",
       "<table border=\"1\" class=\"dataframe\">\n",
       "  <thead>\n",
       "    <tr style=\"text-align: right;\">\n",
       "      <th></th>\n",
       "      <th>categorty</th>\n",
       "      <th>hand</th>\n",
       "      <th>km_fix</th>\n",
       "      <th>license</th>\n",
       "      <th>district</th>\n",
       "      <th>region</th>\n",
       "      <th>price_fix</th>\n",
       "      <th>size</th>\n",
       "      <th>year</th>\n",
       "    </tr>\n",
       "  </thead>\n",
       "  <tbody>\n",
       "    <tr>\n",
       "      <th>0</th>\n",
       "      <td>קסטום</td>\n",
       "      <td>1</td>\n",
       "      <td>27000</td>\n",
       "      <td>A</td>\n",
       "      <td>tel aviv</td>\n",
       "      <td>am</td>\n",
       "      <td>129000</td>\n",
       "      <td>1800</td>\n",
       "      <td>2018</td>\n",
       "    </tr>\n",
       "    <tr>\n",
       "      <th>1</th>\n",
       "      <td>דו שימושי</td>\n",
       "      <td>2</td>\n",
       "      <td>175000</td>\n",
       "      <td>A</td>\n",
       "      <td>south</td>\n",
       "      <td>eu</td>\n",
       "      <td>45000</td>\n",
       "      <td>1200</td>\n",
       "      <td>2011</td>\n",
       "    </tr>\n",
       "    <tr>\n",
       "      <th>2</th>\n",
       "      <td>ספורט/כביש</td>\n",
       "      <td>4</td>\n",
       "      <td>8900</td>\n",
       "      <td>A2</td>\n",
       "      <td>haifa</td>\n",
       "      <td>eu</td>\n",
       "      <td>13500</td>\n",
       "      <td>125</td>\n",
       "      <td>2019</td>\n",
       "    </tr>\n",
       "    <tr>\n",
       "      <th>3</th>\n",
       "      <td>דו שימושי</td>\n",
       "      <td>1</td>\n",
       "      <td>3000</td>\n",
       "      <td>A1</td>\n",
       "      <td>center</td>\n",
       "      <td>other</td>\n",
       "      <td>45000</td>\n",
       "      <td>500</td>\n",
       "      <td>2021</td>\n",
       "    </tr>\n",
       "    <tr>\n",
       "      <th>4</th>\n",
       "      <td>דו שימושי</td>\n",
       "      <td>2</td>\n",
       "      <td>45000</td>\n",
       "      <td>A</td>\n",
       "      <td>haifa</td>\n",
       "      <td>eu</td>\n",
       "      <td>112000</td>\n",
       "      <td>1200</td>\n",
       "      <td>2017</td>\n",
       "    </tr>\n",
       "  </tbody>\n",
       "</table>\n",
       "</div>"
      ],
      "text/plain": [
       "    categorty  hand  km_fix license  district region  price_fix  size  year\n",
       "0       קסטום     1   27000       A  tel aviv     am     129000  1800  2018\n",
       "1   דו שימושי     2  175000       A     south     eu      45000  1200  2011\n",
       "2  ספורט/כביש     4    8900      A2     haifa     eu      13500   125  2019\n",
       "3   דו שימושי     1    3000      A1    center  other      45000   500  2021\n",
       "4   דו שימושי     2   45000       A     haifa     eu     112000  1200  2017"
      ]
     },
     "execution_count": 22,
     "metadata": {},
     "output_type": "execute_result"
    }
   ],
   "source": [
    "df2.head()"
   ]
  },
  {
   "cell_type": "code",
   "execution_count": 23,
   "id": "04f700d5",
   "metadata": {},
   "outputs": [
    {
     "name": "stdout",
     "output_type": "stream",
     "text": [
      "category: km_fix, total values: 30\n"
     ]
    },
    {
     "data": {
      "image/png": "[encoded data removed]",
      "text/plain": [
       "<Figure size 432x288 with 1 Axes>"
      ]
     },
     "metadata": {
      "needs_background": "light"
     },
     "output_type": "display_data"
    },
    {
     "name": "stdout",
     "output_type": "stream",
     "text": [
      "category: price_fix, total values: 30\n"
     ]
    },
    {
     "data": {
      "image/png": "[encoded data removed]",
      "text/plain": [
       "<Figure size 432x288 with 1 Axes>"
      ]
     },
     "metadata": {
      "needs_background": "light"
     },
     "output_type": "display_data"
    }
   ],
   "source": [
    "for i in df2[['km_fix','price_fix']].columns:\n",
    "    cat_tot=df2[i].value_counts()[:30]\n",
    "    print('category: %s, total values: %d' % (i,len(cat_tot)))\n",
    "    chart=sns.barplot(x=cat_tot.index, y=cat_tot)\n",
    "    chart.set_xticklabels(chart.get_xticklabels(),rotation=90)\n",
    "    plt.show()"
   ]
  },
  {
   "cell_type": "code",
   "execution_count": 24,
   "id": "33cab045",
   "metadata": {},
   "outputs": [
    {
     "data": {
      "text/html": [
       "<div>\n",
       "<style scoped>\n",
       "    .dataframe tbody tr th:only-of-type {\n",
       "        vertical-align: middle;\n",
       "    }\n",
       "\n",
       "    .dataframe tbody tr th {\n",
       "        vertical-align: top;\n",
       "    }\n",
       "\n",
       "    .dataframe thead th {\n",
       "        text-align: right;\n",
       "    }\n",
       "</style>\n",
       "<table border=\"1\" class=\"dataframe\">\n",
       "  <thead>\n",
       "    <tr style=\"text-align: right;\">\n",
       "      <th></th>\n",
       "      <th>km_fix</th>\n",
       "      <th>price_fix</th>\n",
       "    </tr>\n",
       "    <tr>\n",
       "      <th>license</th>\n",
       "      <th></th>\n",
       "      <th></th>\n",
       "    </tr>\n",
       "  </thead>\n",
       "  <tbody>\n",
       "    <tr>\n",
       "      <th>A</th>\n",
       "      <td>50438.195531</td>\n",
       "      <td>51429.597765</td>\n",
       "    </tr>\n",
       "    <tr>\n",
       "      <th>A1</th>\n",
       "      <td>19880.829268</td>\n",
       "      <td>29476.445122</td>\n",
       "    </tr>\n",
       "    <tr>\n",
       "      <th>A2</th>\n",
       "      <td>11391.428571</td>\n",
       "      <td>17003.571429</td>\n",
       "    </tr>\n",
       "  </tbody>\n",
       "</table>\n",
       "</div>"
      ],
      "text/plain": [
       "               km_fix     price_fix\n",
       "license                            \n",
       "A        50438.195531  51429.597765\n",
       "A1       19880.829268  29476.445122\n",
       "A2       11391.428571  17003.571429"
      ]
     },
     "execution_count": 24,
     "metadata": {},
     "output_type": "execute_result"
    }
   ],
   "source": [
    "pd.pivot_table(df, index= 'license', values=['price_fix','km_fix'])"
   ]
  },
  {
   "cell_type": "code",
   "execution_count": 25,
   "id": "e6a94308",
   "metadata": {},
   "outputs": [
    {
     "data": {
      "text/html": [
       "<div>\n",
       "<style scoped>\n",
       "    .dataframe tbody tr th:only-of-type {\n",
       "        vertical-align: middle;\n",
       "    }\n",
       "\n",
       "    .dataframe tbody tr th {\n",
       "        vertical-align: top;\n",
       "    }\n",
       "\n",
       "    .dataframe thead th {\n",
       "        text-align: right;\n",
       "    }\n",
       "</style>\n",
       "<table border=\"1\" class=\"dataframe\">\n",
       "  <thead>\n",
       "    <tr style=\"text-align: right;\">\n",
       "      <th></th>\n",
       "      <th>km_fix</th>\n",
       "      <th>price_fix</th>\n",
       "    </tr>\n",
       "    <tr>\n",
       "      <th>categorty</th>\n",
       "      <th></th>\n",
       "      <th></th>\n",
       "    </tr>\n",
       "  </thead>\n",
       "  <tbody>\n",
       "    <tr>\n",
       "      <th>דו שימושי</th>\n",
       "      <td>38884.664234</td>\n",
       "      <td>39527.372263</td>\n",
       "    </tr>\n",
       "    <tr>\n",
       "      <th>מוטוקרוס</th>\n",
       "      <td>3057.166667</td>\n",
       "      <td>26908.333333</td>\n",
       "    </tr>\n",
       "    <tr>\n",
       "      <th>ספורט/כביש</th>\n",
       "      <td>31651.817204</td>\n",
       "      <td>36870.349462</td>\n",
       "    </tr>\n",
       "    <tr>\n",
       "      <th>קסטום</th>\n",
       "      <td>37686.944444</td>\n",
       "      <td>53336.111111</td>\n",
       "    </tr>\n",
       "  </tbody>\n",
       "</table>\n",
       "</div>"
      ],
      "text/plain": [
       "                  km_fix     price_fix\n",
       "categorty                             \n",
       "דו שימושי   38884.664234  39527.372263\n",
       "מוטוקרוס     3057.166667  26908.333333\n",
       "ספורט/כביש  31651.817204  36870.349462\n",
       "קסטום       37686.944444  53336.111111"
      ]
     },
     "execution_count": 25,
     "metadata": {},
     "output_type": "execute_result"
    }
   ],
   "source": [
    "pd.pivot_table(df, index= 'categorty', values=['price_fix','km_fix'])"
   ]
  },
  {
   "cell_type": "code",
   "execution_count": 26,
   "id": "e7a9663e",
   "metadata": {},
   "outputs": [
    {
     "data": {
      "text/html": [
       "<div>\n",
       "<style scoped>\n",
       "    .dataframe tbody tr th:only-of-type {\n",
       "        vertical-align: middle;\n",
       "    }\n",
       "\n",
       "    .dataframe tbody tr th {\n",
       "        vertical-align: top;\n",
       "    }\n",
       "\n",
       "    .dataframe thead th {\n",
       "        text-align: right;\n",
       "    }\n",
       "</style>\n",
       "<table border=\"1\" class=\"dataframe\">\n",
       "  <thead>\n",
       "    <tr style=\"text-align: right;\">\n",
       "      <th></th>\n",
       "      <th>km_fix</th>\n",
       "      <th>price_fix</th>\n",
       "    </tr>\n",
       "    <tr>\n",
       "      <th>hand</th>\n",
       "      <th></th>\n",
       "      <th></th>\n",
       "    </tr>\n",
       "  </thead>\n",
       "  <tbody>\n",
       "    <tr>\n",
       "      <th>1</th>\n",
       "      <td>16894.269663</td>\n",
       "      <td>50398.764045</td>\n",
       "    </tr>\n",
       "    <tr>\n",
       "      <th>2</th>\n",
       "      <td>29822.278261</td>\n",
       "      <td>43405.634783</td>\n",
       "    </tr>\n",
       "    <tr>\n",
       "      <th>3</th>\n",
       "      <td>37301.987013</td>\n",
       "      <td>34152.571429</td>\n",
       "    </tr>\n",
       "    <tr>\n",
       "      <th>4</th>\n",
       "      <td>40477.189189</td>\n",
       "      <td>29121.621622</td>\n",
       "    </tr>\n",
       "    <tr>\n",
       "      <th>5</th>\n",
       "      <td>68486.681818</td>\n",
       "      <td>28659.090909</td>\n",
       "    </tr>\n",
       "    <tr>\n",
       "      <th>6</th>\n",
       "      <td>38391.125000</td>\n",
       "      <td>28875.000000</td>\n",
       "    </tr>\n",
       "    <tr>\n",
       "      <th>7</th>\n",
       "      <td>48688.250000</td>\n",
       "      <td>18781.250000</td>\n",
       "    </tr>\n",
       "    <tr>\n",
       "      <th>8</th>\n",
       "      <td>78890.000000</td>\n",
       "      <td>19799.800000</td>\n",
       "    </tr>\n",
       "    <tr>\n",
       "      <th>9</th>\n",
       "      <td>85000.000000</td>\n",
       "      <td>18250.000000</td>\n",
       "    </tr>\n",
       "    <tr>\n",
       "      <th>10</th>\n",
       "      <td>67125.000000</td>\n",
       "      <td>23062.500000</td>\n",
       "    </tr>\n",
       "  </tbody>\n",
       "</table>\n",
       "</div>"
      ],
      "text/plain": [
       "            km_fix     price_fix\n",
       "hand                            \n",
       "1     16894.269663  50398.764045\n",
       "2     29822.278261  43405.634783\n",
       "3     37301.987013  34152.571429\n",
       "4     40477.189189  29121.621622\n",
       "5     68486.681818  28659.090909\n",
       "6     38391.125000  28875.000000\n",
       "7     48688.250000  18781.250000\n",
       "8     78890.000000  19799.800000\n",
       "9     85000.000000  18250.000000\n",
       "10    67125.000000  23062.500000"
      ]
     },
     "execution_count": 26,
     "metadata": {},
     "output_type": "execute_result"
    }
   ],
   "source": [
    "pd.pivot_table(df, index= 'hand', values=['price_fix','km_fix'])"
   ]
  },
  {
   "cell_type": "code",
   "execution_count": 27,
   "id": "fe5c600b",
   "metadata": {},
   "outputs": [
    {
     "data": {
      "text/html": [
       "<div>\n",
       "<style scoped>\n",
       "    .dataframe tbody tr th:only-of-type {\n",
       "        vertical-align: middle;\n",
       "    }\n",
       "\n",
       "    .dataframe tbody tr th {\n",
       "        vertical-align: top;\n",
       "    }\n",
       "\n",
       "    .dataframe thead th {\n",
       "        text-align: right;\n",
       "    }\n",
       "</style>\n",
       "<table border=\"1\" class=\"dataframe\">\n",
       "  <thead>\n",
       "    <tr style=\"text-align: right;\">\n",
       "      <th></th>\n",
       "      <th></th>\n",
       "      <th>km_fix</th>\n",
       "      <th>price_fix</th>\n",
       "    </tr>\n",
       "    <tr>\n",
       "      <th>license</th>\n",
       "      <th>categorty</th>\n",
       "      <th></th>\n",
       "      <th></th>\n",
       "    </tr>\n",
       "  </thead>\n",
       "  <tbody>\n",
       "    <tr>\n",
       "      <th rowspan=\"3\" valign=\"top\">A</th>\n",
       "      <th>דו שימושי</th>\n",
       "      <td>74672.129630</td>\n",
       "      <td>52912.962963</td>\n",
       "    </tr>\n",
       "    <tr>\n",
       "      <th>ספורט/כביש</th>\n",
       "      <td>38948.156863</td>\n",
       "      <td>48271.549020</td>\n",
       "    </tr>\n",
       "    <tr>\n",
       "      <th>קסטום</th>\n",
       "      <td>44496.956522</td>\n",
       "      <td>61952.173913</td>\n",
       "    </tr>\n",
       "    <tr>\n",
       "      <th rowspan=\"4\" valign=\"top\">A1</th>\n",
       "      <th>דו שימושי</th>\n",
       "      <td>16207.148649</td>\n",
       "      <td>32175.000000</td>\n",
       "    </tr>\n",
       "    <tr>\n",
       "      <th>מוטוקרוס</th>\n",
       "      <td>4334.857143</td>\n",
       "      <td>27200.000000</td>\n",
       "    </tr>\n",
       "    <tr>\n",
       "      <th>ספורט/כביש</th>\n",
       "      <td>24249.757143</td>\n",
       "      <td>25251.242857</td>\n",
       "    </tr>\n",
       "    <tr>\n",
       "      <th>קסטום</th>\n",
       "      <td>25638.461538</td>\n",
       "      <td>38092.307692</td>\n",
       "    </tr>\n",
       "    <tr>\n",
       "      <th rowspan=\"3\" valign=\"top\">A2</th>\n",
       "      <th>דו שימושי</th>\n",
       "      <td>10619.444444</td>\n",
       "      <td>19666.666667</td>\n",
       "    </tr>\n",
       "    <tr>\n",
       "      <th>מוטוקרוס</th>\n",
       "      <td>1268.400000</td>\n",
       "      <td>26500.000000</td>\n",
       "    </tr>\n",
       "    <tr>\n",
       "      <th>ספורט/כביש</th>\n",
       "      <td>15503.071429</td>\n",
       "      <td>11900.000000</td>\n",
       "    </tr>\n",
       "  </tbody>\n",
       "</table>\n",
       "</div>"
      ],
      "text/plain": [
       "                          km_fix     price_fix\n",
       "license categorty                             \n",
       "A       דו שימושי   74672.129630  52912.962963\n",
       "        ספורט/כביש  38948.156863  48271.549020\n",
       "        קסטום       44496.956522  61952.173913\n",
       "A1      דו שימושי   16207.148649  32175.000000\n",
       "        מוטוקרוס     4334.857143  27200.000000\n",
       "        ספורט/כביש  24249.757143  25251.242857\n",
       "        קסטום       25638.461538  38092.307692\n",
       "A2      דו שימושי   10619.444444  19666.666667\n",
       "        מוטוקרוס     1268.400000  26500.000000\n",
       "        ספורט/כביש  15503.071429  11900.000000"
      ]
     },
     "execution_count": 27,
     "metadata": {},
     "output_type": "execute_result"
    }
   ],
   "source": [
    "pd.pivot_table(df, index= ['license','categorty'], values=['price_fix','km_fix'])"
   ]
  },
  {
   "cell_type": "code",
   "execution_count": 28,
   "id": "3b03dfe5",
   "metadata": {},
   "outputs": [
    {
     "data": {
      "text/html": [
       "<div>\n",
       "<style scoped>\n",
       "    .dataframe tbody tr th:only-of-type {\n",
       "        vertical-align: middle;\n",
       "    }\n",
       "\n",
       "    .dataframe tbody tr th {\n",
       "        vertical-align: top;\n",
       "    }\n",
       "\n",
       "    .dataframe thead th {\n",
       "        text-align: right;\n",
       "    }\n",
       "</style>\n",
       "<table border=\"1\" class=\"dataframe\">\n",
       "  <thead>\n",
       "    <tr style=\"text-align: right;\">\n",
       "      <th></th>\n",
       "      <th>price_fix</th>\n",
       "    </tr>\n",
       "    <tr>\n",
       "      <th>km_fix</th>\n",
       "      <th></th>\n",
       "    </tr>\n",
       "  </thead>\n",
       "  <tbody>\n",
       "    <tr>\n",
       "      <th>1</th>\n",
       "      <td>18500.0</td>\n",
       "    </tr>\n",
       "    <tr>\n",
       "      <th>6</th>\n",
       "      <td>38000.0</td>\n",
       "    </tr>\n",
       "    <tr>\n",
       "      <th>8</th>\n",
       "      <td>55000.0</td>\n",
       "    </tr>\n",
       "    <tr>\n",
       "      <th>10</th>\n",
       "      <td>11000.0</td>\n",
       "    </tr>\n",
       "    <tr>\n",
       "      <th>18</th>\n",
       "      <td>18000.0</td>\n",
       "    </tr>\n",
       "    <tr>\n",
       "      <th>...</th>\n",
       "      <td>...</td>\n",
       "    </tr>\n",
       "    <tr>\n",
       "      <th>175000</th>\n",
       "      <td>45000.0</td>\n",
       "    </tr>\n",
       "    <tr>\n",
       "      <th>195000</th>\n",
       "      <td>25000.0</td>\n",
       "    </tr>\n",
       "    <tr>\n",
       "      <th>215000</th>\n",
       "      <td>18500.0</td>\n",
       "    </tr>\n",
       "    <tr>\n",
       "      <th>223000</th>\n",
       "      <td>52000.0</td>\n",
       "    </tr>\n",
       "    <tr>\n",
       "      <th>271000</th>\n",
       "      <td>23000.0</td>\n",
       "    </tr>\n",
       "  </tbody>\n",
       "</table>\n",
       "<p>198 rows × 1 columns</p>\n",
       "</div>"
      ],
      "text/plain": [
       "        price_fix\n",
       "km_fix           \n",
       "1         18500.0\n",
       "6         38000.0\n",
       "8         55000.0\n",
       "10        11000.0\n",
       "18        18000.0\n",
       "...           ...\n",
       "175000    45000.0\n",
       "195000    25000.0\n",
       "215000    18500.0\n",
       "223000    52000.0\n",
       "271000    23000.0\n",
       "\n",
       "[198 rows x 1 columns]"
      ]
     },
     "execution_count": 28,
     "metadata": {},
     "output_type": "execute_result"
    }
   ],
   "source": [
    "pd.pivot_table(df2, index='km_fix' , values='price_fix',)"
   ]
  },
  {
   "cell_type": "code",
   "execution_count": 29,
   "id": "34a354e0",
   "metadata": {},
   "outputs": [
    {
     "data": {
      "text/html": [
       "<div>\n",
       "<style scoped>\n",
       "    .dataframe tbody tr th:only-of-type {\n",
       "        vertical-align: middle;\n",
       "    }\n",
       "\n",
       "    .dataframe tbody tr th {\n",
       "        vertical-align: top;\n",
       "    }\n",
       "\n",
       "    .dataframe thead th {\n",
       "        text-align: right;\n",
       "    }\n",
       "</style>\n",
       "<table border=\"1\" class=\"dataframe\">\n",
       "  <thead>\n",
       "    <tr style=\"text-align: right;\">\n",
       "      <th></th>\n",
       "      <th></th>\n",
       "      <th>km_fix</th>\n",
       "      <th>price_fix</th>\n",
       "      <th>year</th>\n",
       "    </tr>\n",
       "    <tr>\n",
       "      <th>license</th>\n",
       "      <th>size</th>\n",
       "      <th></th>\n",
       "      <th></th>\n",
       "      <th></th>\n",
       "    </tr>\n",
       "  </thead>\n",
       "  <tbody>\n",
       "    <tr>\n",
       "      <th rowspan=\"20\" valign=\"top\">A</th>\n",
       "      <th>400</th>\n",
       "      <td>5050.000000</td>\n",
       "      <td>31750.000000</td>\n",
       "      <td>2019.000000</td>\n",
       "    </tr>\n",
       "    <tr>\n",
       "      <th>500</th>\n",
       "      <td>60116.666667</td>\n",
       "      <td>40000.000000</td>\n",
       "      <td>1983.333333</td>\n",
       "    </tr>\n",
       "    <tr>\n",
       "      <th>600</th>\n",
       "      <td>59743.750000</td>\n",
       "      <td>51687.375000</td>\n",
       "      <td>2013.250000</td>\n",
       "    </tr>\n",
       "    <tr>\n",
       "      <th>650</th>\n",
       "      <td>55043.055556</td>\n",
       "      <td>26077.777778</td>\n",
       "      <td>2014.527778</td>\n",
       "    </tr>\n",
       "    <tr>\n",
       "      <th>700</th>\n",
       "      <td>61700.000000</td>\n",
       "      <td>31127.272727</td>\n",
       "      <td>2014.727273</td>\n",
       "    </tr>\n",
       "    <tr>\n",
       "      <th>750</th>\n",
       "      <td>33636.363636</td>\n",
       "      <td>35627.272727</td>\n",
       "      <td>2012.181818</td>\n",
       "    </tr>\n",
       "    <tr>\n",
       "      <th>800</th>\n",
       "      <td>58469.769231</td>\n",
       "      <td>35730.769231</td>\n",
       "      <td>2012.307692</td>\n",
       "    </tr>\n",
       "    <tr>\n",
       "      <th>850</th>\n",
       "      <td>26497.500000</td>\n",
       "      <td>55250.000000</td>\n",
       "      <td>2011.750000</td>\n",
       "    </tr>\n",
       "    <tr>\n",
       "      <th>880</th>\n",
       "      <td>5000.000000</td>\n",
       "      <td>55000.000000</td>\n",
       "      <td>2019.000000</td>\n",
       "    </tr>\n",
       "    <tr>\n",
       "      <th>900</th>\n",
       "      <td>26689.850000</td>\n",
       "      <td>46405.000000</td>\n",
       "      <td>2017.700000</td>\n",
       "    </tr>\n",
       "    <tr>\n",
       "      <th>1000</th>\n",
       "      <td>34136.428571</td>\n",
       "      <td>68242.821429</td>\n",
       "      <td>2015.571429</td>\n",
       "    </tr>\n",
       "    <tr>\n",
       "      <th>1100</th>\n",
       "      <td>39680.000000</td>\n",
       "      <td>76000.000000</td>\n",
       "      <td>2004.500000</td>\n",
       "    </tr>\n",
       "    <tr>\n",
       "      <th>1200</th>\n",
       "      <td>98682.500000</td>\n",
       "      <td>71906.250000</td>\n",
       "      <td>2012.812500</td>\n",
       "    </tr>\n",
       "    <tr>\n",
       "      <th>1250</th>\n",
       "      <td>24333.333333</td>\n",
       "      <td>114333.333333</td>\n",
       "      <td>2018.333333</td>\n",
       "    </tr>\n",
       "    <tr>\n",
       "      <th>1300</th>\n",
       "      <td>50666.666667</td>\n",
       "      <td>65666.666667</td>\n",
       "      <td>2014.000000</td>\n",
       "    </tr>\n",
       "    <tr>\n",
       "      <th>1350</th>\n",
       "      <td>68500.000000</td>\n",
       "      <td>57500.000000</td>\n",
       "      <td>2004.000000</td>\n",
       "    </tr>\n",
       "    <tr>\n",
       "      <th>1400</th>\n",
       "      <td>173000.000000</td>\n",
       "      <td>26000.000000</td>\n",
       "      <td>2007.000000</td>\n",
       "    </tr>\n",
       "    <tr>\n",
       "      <th>1450</th>\n",
       "      <td>35000.000000</td>\n",
       "      <td>79900.000000</td>\n",
       "      <td>2005.000000</td>\n",
       "    </tr>\n",
       "    <tr>\n",
       "      <th>1500</th>\n",
       "      <td>55000.000000</td>\n",
       "      <td>74500.000000</td>\n",
       "      <td>2002.500000</td>\n",
       "    </tr>\n",
       "    <tr>\n",
       "      <th>1800</th>\n",
       "      <td>42724.714286</td>\n",
       "      <td>116285.714286</td>\n",
       "      <td>2014.571429</td>\n",
       "    </tr>\n",
       "    <tr>\n",
       "      <th rowspan=\"15\" valign=\"top\">A1</th>\n",
       "      <th>150</th>\n",
       "      <td>55.000000</td>\n",
       "      <td>26000.000000</td>\n",
       "      <td>2019.000000</td>\n",
       "    </tr>\n",
       "    <tr>\n",
       "      <th>200</th>\n",
       "      <td>21500.000000</td>\n",
       "      <td>8750.000000</td>\n",
       "      <td>2017.000000</td>\n",
       "    </tr>\n",
       "    <tr>\n",
       "      <th>250</th>\n",
       "      <td>16810.729167</td>\n",
       "      <td>24013.500000</td>\n",
       "      <td>2016.770833</td>\n",
       "    </tr>\n",
       "    <tr>\n",
       "      <th>300</th>\n",
       "      <td>16456.100000</td>\n",
       "      <td>27060.000000</td>\n",
       "      <td>2018.850000</td>\n",
       "    </tr>\n",
       "    <tr>\n",
       "      <th>350</th>\n",
       "      <td>3945.500000</td>\n",
       "      <td>34666.666667</td>\n",
       "      <td>2013.500000</td>\n",
       "    </tr>\n",
       "    <tr>\n",
       "      <th>400</th>\n",
       "      <td>19339.318182</td>\n",
       "      <td>22910.954545</td>\n",
       "      <td>2017.272727</td>\n",
       "    </tr>\n",
       "    <tr>\n",
       "      <th>450</th>\n",
       "      <td>1071.666667</td>\n",
       "      <td>32000.000000</td>\n",
       "      <td>2017.000000</td>\n",
       "    </tr>\n",
       "    <tr>\n",
       "      <th>500</th>\n",
       "      <td>27235.200000</td>\n",
       "      <td>31574.966667</td>\n",
       "      <td>2017.500000</td>\n",
       "    </tr>\n",
       "    <tr>\n",
       "      <th>650</th>\n",
       "      <td>24044.444444</td>\n",
       "      <td>38666.666667</td>\n",
       "      <td>2018.666667</td>\n",
       "    </tr>\n",
       "    <tr>\n",
       "      <th>700</th>\n",
       "      <td>33592.307692</td>\n",
       "      <td>35730.692308</td>\n",
       "      <td>2017.615385</td>\n",
       "    </tr>\n",
       "    <tr>\n",
       "      <th>750</th>\n",
       "      <td>5500.000000</td>\n",
       "      <td>64500.000000</td>\n",
       "      <td>2021.000000</td>\n",
       "    </tr>\n",
       "    <tr>\n",
       "      <th>800</th>\n",
       "      <td>74000.000000</td>\n",
       "      <td>20000.000000</td>\n",
       "      <td>2010.000000</td>\n",
       "    </tr>\n",
       "    <tr>\n",
       "      <th>880</th>\n",
       "      <td>20000.000000</td>\n",
       "      <td>79000.000000</td>\n",
       "      <td>2019.000000</td>\n",
       "    </tr>\n",
       "    <tr>\n",
       "      <th>900</th>\n",
       "      <td>11250.000000</td>\n",
       "      <td>50750.000000</td>\n",
       "      <td>2019.000000</td>\n",
       "    </tr>\n",
       "    <tr>\n",
       "      <th>1200</th>\n",
       "      <td>8800.000000</td>\n",
       "      <td>72000.000000</td>\n",
       "      <td>2019.000000</td>\n",
       "    </tr>\n",
       "    <tr>\n",
       "      <th rowspan=\"2\" valign=\"top\">A2</th>\n",
       "      <th>125</th>\n",
       "      <td>11087.760000</td>\n",
       "      <td>15364.000000</td>\n",
       "      <td>2017.520000</td>\n",
       "    </tr>\n",
       "    <tr>\n",
       "      <th>250</th>\n",
       "      <td>13922.000000</td>\n",
       "      <td>30666.666667</td>\n",
       "      <td>2017.333333</td>\n",
       "    </tr>\n",
       "  </tbody>\n",
       "</table>\n",
       "</div>"
      ],
      "text/plain": [
       "                     km_fix      price_fix         year\n",
       "license size                                           \n",
       "A       400     5050.000000   31750.000000  2019.000000\n",
       "        500    60116.666667   40000.000000  1983.333333\n",
       "        600    59743.750000   51687.375000  2013.250000\n",
       "        650    55043.055556   26077.777778  2014.527778\n",
       "        700    61700.000000   31127.272727  2014.727273\n",
       "        750    33636.363636   35627.272727  2012.181818\n",
       "        800    58469.769231   35730.769231  2012.307692\n",
       "        850    26497.500000   55250.000000  2011.750000\n",
       "        880     5000.000000   55000.000000  2019.000000\n",
       "        900    26689.850000   46405.000000  2017.700000\n",
       "        1000   34136.428571   68242.821429  2015.571429\n",
       "        1100   39680.000000   76000.000000  2004.500000\n",
       "        1200   98682.500000   71906.250000  2012.812500\n",
       "        1250   24333.333333  114333.333333  2018.333333\n",
       "        1300   50666.666667   65666.666667  2014.000000\n",
       "        1350   68500.000000   57500.000000  2004.000000\n",
       "        1400  173000.000000   26000.000000  2007.000000\n",
       "        1450   35000.000000   79900.000000  2005.000000\n",
       "        1500   55000.000000   74500.000000  2002.500000\n",
       "        1800   42724.714286  116285.714286  2014.571429\n",
       "A1      150       55.000000   26000.000000  2019.000000\n",
       "        200    21500.000000    8750.000000  2017.000000\n",
       "        250    16810.729167   24013.500000  2016.770833\n",
       "        300    16456.100000   27060.000000  2018.850000\n",
       "        350     3945.500000   34666.666667  2013.500000\n",
       "        400    19339.318182   22910.954545  2017.272727\n",
       "        450     1071.666667   32000.000000  2017.000000\n",
       "        500    27235.200000   31574.966667  2017.500000\n",
       "        650    24044.444444   38666.666667  2018.666667\n",
       "        700    33592.307692   35730.692308  2017.615385\n",
       "        750     5500.000000   64500.000000  2021.000000\n",
       "        800    74000.000000   20000.000000  2010.000000\n",
       "        880    20000.000000   79000.000000  2019.000000\n",
       "        900    11250.000000   50750.000000  2019.000000\n",
       "        1200    8800.000000   72000.000000  2019.000000\n",
       "A2      125    11087.760000   15364.000000  2017.520000\n",
       "        250    13922.000000   30666.666667  2017.333333"
      ]
     },
     "execution_count": 29,
     "metadata": {},
     "output_type": "execute_result"
    }
   ],
   "source": [
    "pd.pivot_table(df2, index= ['license','size'], values=['price_fix','km_fix','year'])"
   ]
  },
  {
   "cell_type": "code",
   "execution_count": 33,
   "id": "81b7eed9",
   "metadata": {},
   "outputs": [
    {
     "data": {
      "text/html": [
       "<div>\n",
       "<style scoped>\n",
       "    .dataframe tbody tr th:only-of-type {\n",
       "        vertical-align: middle;\n",
       "    }\n",
       "\n",
       "    .dataframe tbody tr th {\n",
       "        vertical-align: top;\n",
       "    }\n",
       "\n",
       "    .dataframe thead th {\n",
       "        text-align: right;\n",
       "    }\n",
       "</style>\n",
       "<table border=\"1\" class=\"dataframe\">\n",
       "  <thead>\n",
       "    <tr style=\"text-align: right;\">\n",
       "      <th></th>\n",
       "      <th>km_fix</th>\n",
       "      <th>price_fix</th>\n",
       "      <th>year</th>\n",
       "    </tr>\n",
       "    <tr>\n",
       "      <th>maker</th>\n",
       "      <th></th>\n",
       "      <th></th>\n",
       "      <th></th>\n",
       "    </tr>\n",
       "  </thead>\n",
       "  <tbody>\n",
       "    <tr>\n",
       "      <th>AJP</th>\n",
       "      <td>6800.000000</td>\n",
       "      <td>19000.000000</td>\n",
       "      <td>2014.000000</td>\n",
       "    </tr>\n",
       "    <tr>\n",
       "      <th>BSE</th>\n",
       "      <td>10.000000</td>\n",
       "      <td>11000.000000</td>\n",
       "      <td>2018.000000</td>\n",
       "    </tr>\n",
       "    <tr>\n",
       "      <th>CF</th>\n",
       "      <td>6666.666667</td>\n",
       "      <td>24247.000000</td>\n",
       "      <td>2020.666667</td>\n",
       "    </tr>\n",
       "    <tr>\n",
       "      <th>MV</th>\n",
       "      <td>26500.000000</td>\n",
       "      <td>46500.000000</td>\n",
       "      <td>2015.500000</td>\n",
       "    </tr>\n",
       "    <tr>\n",
       "      <th>אחר</th>\n",
       "      <td>1626.000000</td>\n",
       "      <td>40000.000000</td>\n",
       "      <td>2020.000000</td>\n",
       "    </tr>\n",
       "    <tr>\n",
       "      <th>אינדיאן</th>\n",
       "      <td>3500.000000</td>\n",
       "      <td>89000.000000</td>\n",
       "      <td>2020.000000</td>\n",
       "    </tr>\n",
       "    <tr>\n",
       "      <th>אפריליה</th>\n",
       "      <td>15933.333333</td>\n",
       "      <td>29666.666667</td>\n",
       "      <td>2016.666667</td>\n",
       "    </tr>\n",
       "    <tr>\n",
       "      <th>ב.מ.וו</th>\n",
       "      <td>70946.454545</td>\n",
       "      <td>68136.363636</td>\n",
       "      <td>2015.590909</td>\n",
       "    </tr>\n",
       "    <tr>\n",
       "      <th>בטא</th>\n",
       "      <td>756.666667</td>\n",
       "      <td>37300.000000</td>\n",
       "      <td>2019.333333</td>\n",
       "    </tr>\n",
       "    <tr>\n",
       "      <th>בנלי</th>\n",
       "      <td>12240.000000</td>\n",
       "      <td>32200.000000</td>\n",
       "      <td>2019.600000</td>\n",
       "    </tr>\n",
       "    <tr>\n",
       "      <th>גאס-גאס</th>\n",
       "      <td>8.000000</td>\n",
       "      <td>55000.000000</td>\n",
       "      <td>2021.000000</td>\n",
       "    </tr>\n",
       "    <tr>\n",
       "      <th>גולדן</th>\n",
       "      <td>43540.000000</td>\n",
       "      <td>52500.000000</td>\n",
       "      <td>1997.500000</td>\n",
       "    </tr>\n",
       "    <tr>\n",
       "      <th>דוקאטי</th>\n",
       "      <td>24580.000000</td>\n",
       "      <td>69540.000000</td>\n",
       "      <td>2017.000000</td>\n",
       "    </tr>\n",
       "    <tr>\n",
       "      <th>הונדה</th>\n",
       "      <td>39444.000000</td>\n",
       "      <td>36745.885246</td>\n",
       "      <td>2013.868852</td>\n",
       "    </tr>\n",
       "    <tr>\n",
       "      <th>הוסקוורנה</th>\n",
       "      <td>3548.727273</td>\n",
       "      <td>35968.181818</td>\n",
       "      <td>2017.545455</td>\n",
       "    </tr>\n",
       "    <tr>\n",
       "      <th>הרלי</th>\n",
       "      <td>32066.666667</td>\n",
       "      <td>91825.000000</td>\n",
       "      <td>2013.416667</td>\n",
       "    </tr>\n",
       "    <tr>\n",
       "      <th>טריומף</th>\n",
       "      <td>100000.000000</td>\n",
       "      <td>30000.000000</td>\n",
       "      <td>1971.000000</td>\n",
       "    </tr>\n",
       "    <tr>\n",
       "      <th>יוסאנג</th>\n",
       "      <td>41750.000000</td>\n",
       "      <td>16000.000000</td>\n",
       "      <td>2013.500000</td>\n",
       "    </tr>\n",
       "    <tr>\n",
       "      <th>ימאהה</th>\n",
       "      <td>40696.910448</td>\n",
       "      <td>40328.328358</td>\n",
       "      <td>2015.611940</td>\n",
       "    </tr>\n",
       "    <tr>\n",
       "      <th>סאן</th>\n",
       "      <td>33900.000000</td>\n",
       "      <td>9780.000000</td>\n",
       "      <td>2016.200000</td>\n",
       "    </tr>\n",
       "    <tr>\n",
       "      <th>סוזוקי</th>\n",
       "      <td>35918.921053</td>\n",
       "      <td>33177.605263</td>\n",
       "      <td>2014.868421</td>\n",
       "    </tr>\n",
       "    <tr>\n",
       "      <th>סקיי-טים</th>\n",
       "      <td>835.000000</td>\n",
       "      <td>15000.000000</td>\n",
       "      <td>2017.000000</td>\n",
       "    </tr>\n",
       "    <tr>\n",
       "      <th>ק.ט.מ</th>\n",
       "      <td>17866.904762</td>\n",
       "      <td>31947.595238</td>\n",
       "      <td>2017.095238</td>\n",
       "    </tr>\n",
       "    <tr>\n",
       "      <th>קאוואסאקי</th>\n",
       "      <td>33255.768116</td>\n",
       "      <td>32337.666667</td>\n",
       "      <td>2015.826087</td>\n",
       "    </tr>\n",
       "    <tr>\n",
       "      <th>קיוואי</th>\n",
       "      <td>28666.666667</td>\n",
       "      <td>9933.333333</td>\n",
       "      <td>2017.333333</td>\n",
       "    </tr>\n",
       "    <tr>\n",
       "      <th>קימקו</th>\n",
       "      <td>27504.000000</td>\n",
       "      <td>7500.000000</td>\n",
       "      <td>2017.333333</td>\n",
       "    </tr>\n",
       "    <tr>\n",
       "      <th>רויאל</th>\n",
       "      <td>29000.000000</td>\n",
       "      <td>22000.000000</td>\n",
       "      <td>2015.000000</td>\n",
       "    </tr>\n",
       "  </tbody>\n",
       "</table>\n",
       "</div>"
      ],
      "text/plain": [
       "                  km_fix     price_fix         year\n",
       "maker                                              \n",
       "AJP          6800.000000  19000.000000  2014.000000\n",
       "BSE            10.000000  11000.000000  2018.000000\n",
       "CF           6666.666667  24247.000000  2020.666667\n",
       "MV          26500.000000  46500.000000  2015.500000\n",
       "אחר          1626.000000  40000.000000  2020.000000\n",
       "אינדיאן      3500.000000  89000.000000  2020.000000\n",
       "אפריליה     15933.333333  29666.666667  2016.666667\n",
       "ב.מ.וו      70946.454545  68136.363636  2015.590909\n",
       "בטא           756.666667  37300.000000  2019.333333\n",
       "בנלי        12240.000000  32200.000000  2019.600000\n",
       "גאס-גאס         8.000000  55000.000000  2021.000000\n",
       "גולדן       43540.000000  52500.000000  1997.500000\n",
       "דוקאטי      24580.000000  69540.000000  2017.000000\n",
       "הונדה       39444.000000  36745.885246  2013.868852\n",
       "הוסקוורנה    3548.727273  35968.181818  2017.545455\n",
       "הרלי        32066.666667  91825.000000  2013.416667\n",
       "טריומף     100000.000000  30000.000000  1971.000000\n",
       "יוסאנג      41750.000000  16000.000000  2013.500000\n",
       "ימאהה       40696.910448  40328.328358  2015.611940\n",
       "סאן         33900.000000   9780.000000  2016.200000\n",
       "סוזוקי      35918.921053  33177.605263  2014.868421\n",
       "סקיי-טים      835.000000  15000.000000  2017.000000\n",
       "ק.ט.מ       17866.904762  31947.595238  2017.095238\n",
       "קאוואסאקי   33255.768116  32337.666667  2015.826087\n",
       "קיוואי      28666.666667   9933.333333  2017.333333\n",
       "קימקו       27504.000000   7500.000000  2017.333333\n",
       "רויאל       29000.000000  22000.000000  2015.000000"
      ]
     },
     "execution_count": 33,
     "metadata": {},
     "output_type": "execute_result"
    }
   ],
   "source": [
    "pd.pivot_table(df, index= ['maker'], values=['price_fix','km_fix','year'])"
   ]
  },
  {
   "cell_type": "code",
   "execution_count": 34,
   "id": "1891bfdf",
   "metadata": {},
   "outputs": [
    {
     "data": {
      "text/html": [
       "<div>\n",
       "<style scoped>\n",
       "    .dataframe tbody tr th:only-of-type {\n",
       "        vertical-align: middle;\n",
       "    }\n",
       "\n",
       "    .dataframe tbody tr th {\n",
       "        vertical-align: top;\n",
       "    }\n",
       "\n",
       "    .dataframe thead th {\n",
       "        text-align: right;\n",
       "    }\n",
       "</style>\n",
       "<table border=\"1\" class=\"dataframe\">\n",
       "  <thead>\n",
       "    <tr style=\"text-align: right;\">\n",
       "      <th></th>\n",
       "      <th>km_fix</th>\n",
       "      <th>price_fix</th>\n",
       "      <th>year</th>\n",
       "    </tr>\n",
       "    <tr>\n",
       "      <th>region</th>\n",
       "      <th></th>\n",
       "      <th></th>\n",
       "      <th></th>\n",
       "    </tr>\n",
       "  </thead>\n",
       "  <tbody>\n",
       "    <tr>\n",
       "      <th>am</th>\n",
       "      <td>29869.230769</td>\n",
       "      <td>91607.692308</td>\n",
       "      <td>2013.923077</td>\n",
       "    </tr>\n",
       "    <tr>\n",
       "      <th>eu</th>\n",
       "      <td>33197.643312</td>\n",
       "      <td>41855.082803</td>\n",
       "      <td>2015.382166</td>\n",
       "    </tr>\n",
       "    <tr>\n",
       "      <th>jp</th>\n",
       "      <td>36780.340909</td>\n",
       "      <td>35790.034091</td>\n",
       "      <td>2015.329545</td>\n",
       "    </tr>\n",
       "    <tr>\n",
       "      <th>other</th>\n",
       "      <td>21367.320000</td>\n",
       "      <td>18197.640000</td>\n",
       "      <td>2017.680000</td>\n",
       "    </tr>\n",
       "  </tbody>\n",
       "</table>\n",
       "</div>"
      ],
      "text/plain": [
       "              km_fix     price_fix         year\n",
       "region                                         \n",
       "am      29869.230769  91607.692308  2013.923077\n",
       "eu      33197.643312  41855.082803  2015.382166\n",
       "jp      36780.340909  35790.034091  2015.329545\n",
       "other   21367.320000  18197.640000  2017.680000"
      ]
     },
     "execution_count": 34,
     "metadata": {},
     "output_type": "execute_result"
    }
   ],
   "source": [
    "pd.pivot_table(df, index= ['region'], values=['price_fix','km_fix','year'])"
   ]
  },
  {
   "cell_type": "code",
   "execution_count": 35,
   "id": "65f9b89f",
   "metadata": {},
   "outputs": [
    {
     "data": {
      "text/html": [
       "<div>\n",
       "<style scoped>\n",
       "    .dataframe tbody tr th:only-of-type {\n",
       "        vertical-align: middle;\n",
       "    }\n",
       "\n",
       "    .dataframe tbody tr th {\n",
       "        vertical-align: top;\n",
       "    }\n",
       "\n",
       "    .dataframe thead th {\n",
       "        text-align: right;\n",
       "    }\n",
       "</style>\n",
       "<table border=\"1\" class=\"dataframe\">\n",
       "  <thead>\n",
       "    <tr style=\"text-align: right;\">\n",
       "      <th></th>\n",
       "      <th>km_fix</th>\n",
       "      <th>price_fix</th>\n",
       "      <th>year</th>\n",
       "    </tr>\n",
       "    <tr>\n",
       "      <th>district</th>\n",
       "      <th></th>\n",
       "      <th></th>\n",
       "      <th></th>\n",
       "    </tr>\n",
       "  </thead>\n",
       "  <tbody>\n",
       "    <tr>\n",
       "      <th>center</th>\n",
       "      <td>35029.834783</td>\n",
       "      <td>39908.608696</td>\n",
       "      <td>2014.860870</td>\n",
       "    </tr>\n",
       "    <tr>\n",
       "      <th>haifa</th>\n",
       "      <td>29584.300000</td>\n",
       "      <td>44088.300000</td>\n",
       "      <td>2016.433333</td>\n",
       "    </tr>\n",
       "    <tr>\n",
       "      <th>jerusalem</th>\n",
       "      <td>47723.242424</td>\n",
       "      <td>36292.393939</td>\n",
       "      <td>2014.454545</td>\n",
       "    </tr>\n",
       "    <tr>\n",
       "      <th>north</th>\n",
       "      <td>35397.983051</td>\n",
       "      <td>36839.830508</td>\n",
       "      <td>2015.457627</td>\n",
       "    </tr>\n",
       "    <tr>\n",
       "      <th>south</th>\n",
       "      <td>30156.153846</td>\n",
       "      <td>38061.519231</td>\n",
       "      <td>2015.711538</td>\n",
       "    </tr>\n",
       "    <tr>\n",
       "      <th>tel aviv</th>\n",
       "      <td>28675.569620</td>\n",
       "      <td>39602.506329</td>\n",
       "      <td>2016.291139</td>\n",
       "    </tr>\n",
       "    <tr>\n",
       "      <th>yosh</th>\n",
       "      <td>65018.333333</td>\n",
       "      <td>41666.666667</td>\n",
       "      <td>2013.666667</td>\n",
       "    </tr>\n",
       "  </tbody>\n",
       "</table>\n",
       "</div>"
      ],
      "text/plain": [
       "                 km_fix     price_fix         year\n",
       "district                                          \n",
       "center     35029.834783  39908.608696  2014.860870\n",
       "haifa      29584.300000  44088.300000  2016.433333\n",
       "jerusalem  47723.242424  36292.393939  2014.454545\n",
       "north      35397.983051  36839.830508  2015.457627\n",
       "south      30156.153846  38061.519231  2015.711538\n",
       "tel aviv   28675.569620  39602.506329  2016.291139\n",
       "yosh       65018.333333  41666.666667  2013.666667"
      ]
     },
     "execution_count": 35,
     "metadata": {},
     "output_type": "execute_result"
    }
   ],
   "source": [
    "pd.pivot_table(df, index= ['district'], values=['price_fix','km_fix','year'])"
   ]
  },
  {
   "cell_type": "code",
   "execution_count": 36,
   "id": "e7f987c2",
   "metadata": {},
   "outputs": [
    {
     "data": {
      "text/html": [
       "<div>\n",
       "<style scoped>\n",
       "    .dataframe tbody tr th:only-of-type {\n",
       "        vertical-align: middle;\n",
       "    }\n",
       "\n",
       "    .dataframe tbody tr th {\n",
       "        vertical-align: top;\n",
       "    }\n",
       "\n",
       "    .dataframe thead th {\n",
       "        text-align: right;\n",
       "    }\n",
       "</style>\n",
       "<table border=\"1\" class=\"dataframe\">\n",
       "  <thead>\n",
       "    <tr style=\"text-align: right;\">\n",
       "      <th></th>\n",
       "      <th>km_fix</th>\n",
       "      <th>price_fix</th>\n",
       "    </tr>\n",
       "    <tr>\n",
       "      <th>year</th>\n",
       "      <th></th>\n",
       "      <th></th>\n",
       "    </tr>\n",
       "  </thead>\n",
       "  <tbody>\n",
       "    <tr>\n",
       "      <th>1971</th>\n",
       "      <td>100000.000000</td>\n",
       "      <td>30000.000000</td>\n",
       "    </tr>\n",
       "    <tr>\n",
       "      <th>1981</th>\n",
       "      <td>70000.000000</td>\n",
       "      <td>25000.000000</td>\n",
       "    </tr>\n",
       "    <tr>\n",
       "      <th>1982</th>\n",
       "      <td>35040.000000</td>\n",
       "      <td>35000.000000</td>\n",
       "    </tr>\n",
       "    <tr>\n",
       "      <th>1986</th>\n",
       "      <td>62000.000000</td>\n",
       "      <td>29000.000000</td>\n",
       "    </tr>\n",
       "    <tr>\n",
       "      <th>1988</th>\n",
       "      <td>80000.000000</td>\n",
       "      <td>39000.000000</td>\n",
       "    </tr>\n",
       "    <tr>\n",
       "      <th>1989</th>\n",
       "      <td>65420.000000</td>\n",
       "      <td>36000.000000</td>\n",
       "    </tr>\n",
       "    <tr>\n",
       "      <th>1993</th>\n",
       "      <td>20000.000000</td>\n",
       "      <td>32000.000000</td>\n",
       "    </tr>\n",
       "    <tr>\n",
       "      <th>1994</th>\n",
       "      <td>99000.000000</td>\n",
       "      <td>32000.000000</td>\n",
       "    </tr>\n",
       "    <tr>\n",
       "      <th>1996</th>\n",
       "      <td>46000.000000</td>\n",
       "      <td>22000.000000</td>\n",
       "    </tr>\n",
       "    <tr>\n",
       "      <th>1997</th>\n",
       "      <td>61175.000000</td>\n",
       "      <td>60000.000000</td>\n",
       "    </tr>\n",
       "    <tr>\n",
       "      <th>1998</th>\n",
       "      <td>33750.000000</td>\n",
       "      <td>18000.000000</td>\n",
       "    </tr>\n",
       "    <tr>\n",
       "      <th>2001</th>\n",
       "      <td>103000.000000</td>\n",
       "      <td>12000.000000</td>\n",
       "    </tr>\n",
       "    <tr>\n",
       "      <th>2002</th>\n",
       "      <td>122225.000000</td>\n",
       "      <td>14749.500000</td>\n",
       "    </tr>\n",
       "    <tr>\n",
       "      <th>2003</th>\n",
       "      <td>63000.000000</td>\n",
       "      <td>31000.000000</td>\n",
       "    </tr>\n",
       "    <tr>\n",
       "      <th>2005</th>\n",
       "      <td>80000.000000</td>\n",
       "      <td>32880.000000</td>\n",
       "    </tr>\n",
       "    <tr>\n",
       "      <th>2006</th>\n",
       "      <td>92900.000000</td>\n",
       "      <td>12980.000000</td>\n",
       "    </tr>\n",
       "    <tr>\n",
       "      <th>2007</th>\n",
       "      <td>73675.000000</td>\n",
       "      <td>43750.000000</td>\n",
       "    </tr>\n",
       "    <tr>\n",
       "      <th>2008</th>\n",
       "      <td>93400.000000</td>\n",
       "      <td>27100.000000</td>\n",
       "    </tr>\n",
       "    <tr>\n",
       "      <th>2009</th>\n",
       "      <td>88385.400000</td>\n",
       "      <td>38020.000000</td>\n",
       "    </tr>\n",
       "    <tr>\n",
       "      <th>2010</th>\n",
       "      <td>48383.500000</td>\n",
       "      <td>15550.000000</td>\n",
       "    </tr>\n",
       "    <tr>\n",
       "      <th>2011</th>\n",
       "      <td>103200.000000</td>\n",
       "      <td>33890.000000</td>\n",
       "    </tr>\n",
       "    <tr>\n",
       "      <th>2012</th>\n",
       "      <td>65500.000000</td>\n",
       "      <td>20437.500000</td>\n",
       "    </tr>\n",
       "    <tr>\n",
       "      <th>2013</th>\n",
       "      <td>77750.000000</td>\n",
       "      <td>32031.250000</td>\n",
       "    </tr>\n",
       "    <tr>\n",
       "      <th>2014</th>\n",
       "      <td>65373.454545</td>\n",
       "      <td>27045.454545</td>\n",
       "    </tr>\n",
       "    <tr>\n",
       "      <th>2015</th>\n",
       "      <td>41922.727273</td>\n",
       "      <td>27913.590909</td>\n",
       "    </tr>\n",
       "    <tr>\n",
       "      <th>2016</th>\n",
       "      <td>30038.551724</td>\n",
       "      <td>38362.034483</td>\n",
       "    </tr>\n",
       "    <tr>\n",
       "      <th>2017</th>\n",
       "      <td>30715.358491</td>\n",
       "      <td>35433.962264</td>\n",
       "    </tr>\n",
       "    <tr>\n",
       "      <th>2018</th>\n",
       "      <td>23989.576923</td>\n",
       "      <td>44394.211538</td>\n",
       "    </tr>\n",
       "    <tr>\n",
       "      <th>2019</th>\n",
       "      <td>16060.980000</td>\n",
       "      <td>45562.000000</td>\n",
       "    </tr>\n",
       "    <tr>\n",
       "      <th>2020</th>\n",
       "      <td>8249.872727</td>\n",
       "      <td>45767.254545</td>\n",
       "    </tr>\n",
       "    <tr>\n",
       "      <th>2021</th>\n",
       "      <td>5094.260870</td>\n",
       "      <td>58860.434783</td>\n",
       "    </tr>\n",
       "  </tbody>\n",
       "</table>\n",
       "</div>"
      ],
      "text/plain": [
       "             km_fix     price_fix\n",
       "year                             \n",
       "1971  100000.000000  30000.000000\n",
       "1981   70000.000000  25000.000000\n",
       "1982   35040.000000  35000.000000\n",
       "1986   62000.000000  29000.000000\n",
       "1988   80000.000000  39000.000000\n",
       "1989   65420.000000  36000.000000\n",
       "1993   20000.000000  32000.000000\n",
       "1994   99000.000000  32000.000000\n",
       "1996   46000.000000  22000.000000\n",
       "1997   61175.000000  60000.000000\n",
       "1998   33750.000000  18000.000000\n",
       "2001  103000.000000  12000.000000\n",
       "2002  122225.000000  14749.500000\n",
       "2003   63000.000000  31000.000000\n",
       "2005   80000.000000  32880.000000\n",
       "2006   92900.000000  12980.000000\n",
       "2007   73675.000000  43750.000000\n",
       "2008   93400.000000  27100.000000\n",
       "2009   88385.400000  38020.000000\n",
       "2010   48383.500000  15550.000000\n",
       "2011  103200.000000  33890.000000\n",
       "2012   65500.000000  20437.500000\n",
       "2013   77750.000000  32031.250000\n",
       "2014   65373.454545  27045.454545\n",
       "2015   41922.727273  27913.590909\n",
       "2016   30038.551724  38362.034483\n",
       "2017   30715.358491  35433.962264\n",
       "2018   23989.576923  44394.211538\n",
       "2019   16060.980000  45562.000000\n",
       "2020    8249.872727  45767.254545\n",
       "2021    5094.260870  58860.434783"
      ]
     },
     "execution_count": 36,
     "metadata": {},
     "output_type": "execute_result"
    }
   ],
   "source": [
    "pd.pivot_table(df, index= ['year'], values=['price_fix','km_fix'])"
   ]
  },
  {
   "cell_type": "code",
   "execution_count": null,
   "id": "d3f39286",
   "metadata": {},
   "outputs": [],
   "source": []
  },
  {
   "cell_type": "code",
   "execution_count": null,
   "id": "f44a265a",
   "metadata": {},
   "outputs": [],
   "source": []
  }
 ],
 "metadata": {
  "kernelspec": {
   "display_name": "Python 3",
   "language": "python",
   "name": "python3"
  },
  "language_info": {
   "codemirror_mode": {
    "name": "ipython",
    "version": 3
   },
   "file_extension": ".py",
   "mimetype": "text/x-python",
   "name": "python",
   "nbconvert_exporter": "python",
   "pygments_lexer": "ipython3",
   "version": "3.8.8"
  }
 },
 "nbformat": 4,
 "nbformat_minor": 5
}
